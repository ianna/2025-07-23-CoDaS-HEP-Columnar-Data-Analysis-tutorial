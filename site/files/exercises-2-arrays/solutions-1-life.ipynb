{
 "cells": [
  {
   "cell_type": "markdown",
   "id": "f8fa3af0-a31d-4bfd-b920-b406b362f857",
   "metadata": {
    "editable": true,
    "slideshow": {
     "slide_type": ""
    },
    "tags": []
   },
   "source": [
    "# Lesson 2 solutions 1: Game of Life"
   ]
  },
  {
   "cell_type": "code",
   "execution_count": 1,
   "id": "e6aec211-3b44-410a-bbd2-b9a83917c03f",
   "metadata": {
    "tags": []
   },
   "outputs": [],
   "source": [
    "import numpy as np\n",
    "import matplotlib.pyplot as plt"
   ]
  },
  {
   "cell_type": "markdown",
   "id": "851530f4-85da-4870-895a-36fd48c65b44",
   "metadata": {},
   "source": [
    "<br><br><br>"
   ]
  },
  {
   "cell_type": "markdown",
   "id": "f83afd16-a4c3-4b0c-a872-bbb8db16f716",
   "metadata": {},
   "source": [
    "## Definitions"
   ]
  },
  {
   "cell_type": "markdown",
   "id": "316d6307-72da-4bc4-9add-4d2c54ece0e1",
   "metadata": {},
   "source": [
    "These two cells just bring back the `new_world` and `show` functions."
   ]
  },
  {
   "cell_type": "code",
   "execution_count": 2,
   "id": "daaaffb8-118d-492a-ab52-c4d841bb92ef",
   "metadata": {
    "tags": []
   },
   "outputs": [],
   "source": [
    "WIDTH = 128\n",
    "HEIGHT = 32\n",
    "\n",
    "def new_world():\n",
    "    world = np.zeros((HEIGHT, WIDTH), dtype=np.int32)\n",
    "\n",
    "    for x, y in [\n",
    "        ( 4, 125), ( 3, 124), ( 3, 123), ( 3, 122), ( 3, 121), ( 3, 120), ( 3, 119), ( 4, 119), ( 5, 119), ( 6, 120),\n",
    "        (10, 121), (11, 120), (12, 119), (12, 120), (13, 120), (13, 121), (14, 121),\n",
    "        (20, 121), (19, 120), (18, 120), (18, 119), (17, 121), (17, 120), (16, 121),\n",
    "        (26, 125), (27, 124), (27, 123), (27, 122), (27, 121), (27, 120), (27, 119), (26, 119), (25, 119), (24, 120)\n",
    "    ]:\n",
    "        world[x][y] = 1\n",
    "\n",
    "    return world\n",
    "\n",
    "world = new_world()"
   ]
  },
  {
   "cell_type": "code",
   "execution_count": 3,
   "id": "e871737e-7269-40df-8f30-cc16df8f3cd7",
   "metadata": {
    "tags": []
   },
   "outputs": [
    {
     "name": "stdout",
     "output_type": "stream",
     "text": [
      "|................................................................................................................................|\n",
      "|................................................................................................................................|\n",
      "|................................................................................................................................|\n",
      "|.......................................................................................................................@@@@@@...|\n",
      "|.......................................................................................................................@.....@..|\n",
      "|.......................................................................................................................@........|\n",
      "|........................................................................................................................@.......|\n",
      "|................................................................................................................................|\n",
      "|................................................................................................................................|\n",
      "|................................................................................................................................|\n",
      "|.........................................................................................................................@......|\n",
      "|........................................................................................................................@.......|\n",
      "|.......................................................................................................................@@.......|\n",
      "|........................................................................................................................@@......|\n",
      "|.........................................................................................................................@......|\n",
      "|................................................................................................................................|\n",
      "|.........................................................................................................................@......|\n",
      "|........................................................................................................................@@......|\n",
      "|.......................................................................................................................@@.......|\n",
      "|........................................................................................................................@.......|\n",
      "|.........................................................................................................................@......|\n",
      "|................................................................................................................................|\n",
      "|................................................................................................................................|\n",
      "|................................................................................................................................|\n",
      "|........................................................................................................................@.......|\n",
      "|.......................................................................................................................@........|\n",
      "|.......................................................................................................................@.....@..|\n",
      "|.......................................................................................................................@@@@@@...|\n",
      "|................................................................................................................................|\n",
      "|................................................................................................................................|\n",
      "|................................................................................................................................|\n",
      "|................................................................................................................................|\n"
     ]
    }
   ],
   "source": [
    "def show(world):\n",
    "    for row in world:\n",
    "        print(\"|\" + \"\".join(\"@\" if cell else \".\" for cell in row) + \"|\")\n",
    "\n",
    "show(world)"
   ]
  },
  {
   "cell_type": "markdown",
   "id": "d8101a74-a176-495a-ab07-8f5391e81627",
   "metadata": {},
   "source": [
    "<br><br><br>"
   ]
  },
  {
   "cell_type": "markdown",
   "id": "9383f49e-c4a0-4733-a403-d6c4d140ae42",
   "metadata": {},
   "source": [
    "## SOLUTIONS TO THE EXERCISE"
   ]
  },
  {
   "cell_type": "markdown",
   "id": "0a4c09ec-0d77-4f1c-a366-bef59f31e999",
   "metadata": {},
   "source": [
    "We can write a completely general solution based on the [np.roll](https://numpy.org/doc/stable/reference/generated/numpy.roll.html) function. This function replaces an array with one in which all elements are shifted to the left or right when `axis=1` and up and down when `axis=0`."
   ]
  },
  {
   "cell_type": "code",
   "execution_count": 4,
   "id": "595868e8-f917-4212-8ac3-dbc3044ff5a6",
   "metadata": {
    "tags": []
   },
   "outputs": [],
   "source": [
    "# Think of this as an anime eyeball... some imagination required.\n",
    "\n",
    "eyeball = np.array([\n",
    "    [    1,    1,    1,    1,    1,    1,    1],\n",
    "    [    1,    1,    1,    1,    1,    1,    1],\n",
    "    [    1,    1,    1, 9999,    1,    1,    1],\n",
    "    [    1,    1, 9999, 9999, 9999,    1,    1],\n",
    "    [    1,    1, 9999, 9999, 9999,    1,    1],\n",
    "    [    1,    1, 9999, 9999, 9999,    1,    1],\n",
    "    [    1,    1, 9999, 9999, 9999,    1,    1],\n",
    "    [    1,    1, 9999, 9999,    1,    1,    1],\n",
    "    [    1,    1, 9999, 9999,    1,    1,    1],\n",
    "    [    1,    1,    1,    1,    1,    1,    1],\n",
    "    [    1,    1,    1,    1,    1,    1,    1],\n",
    "    [    1,    1,    1,    1,    1,    1,    1],\n",
    "])"
   ]
  },
  {
   "cell_type": "code",
   "execution_count": 5,
   "id": "45273559-1388-4ffe-8284-c43a43e7b31d",
   "metadata": {
    "tags": []
   },
   "outputs": [
    {
     "data": {
      "text/plain": [
       "array([[   1,    1,    1,    1,    1,    1,    1],\n",
       "       [   1,    1,    1,    1,    1,    1,    1],\n",
       "       [   1,    1, 9999,    1,    1,    1,    1],\n",
       "       [   1, 9999, 9999, 9999,    1,    1,    1],\n",
       "       [   1, 9999, 9999, 9999,    1,    1,    1],\n",
       "       [   1, 9999, 9999, 9999,    1,    1,    1],\n",
       "       [   1, 9999, 9999, 9999,    1,    1,    1],\n",
       "       [   1, 9999, 9999,    1,    1,    1,    1],\n",
       "       [   1, 9999, 9999,    1,    1,    1,    1],\n",
       "       [   1,    1,    1,    1,    1,    1,    1],\n",
       "       [   1,    1,    1,    1,    1,    1,    1],\n",
       "       [   1,    1,    1,    1,    1,    1,    1]])"
      ]
     },
     "execution_count": 5,
     "metadata": {},
     "output_type": "execute_result"
    }
   ],
   "source": [
    "# Look to the left...\n",
    "np.roll(eyeball, -1, axis=1)"
   ]
  },
  {
   "cell_type": "code",
   "execution_count": 6,
   "id": "816aedb3-98a4-4e1b-b174-23861fd07e4d",
   "metadata": {
    "tags": []
   },
   "outputs": [
    {
     "data": {
      "text/plain": [
       "array([[   1,    1,    1,    1,    1,    1,    1],\n",
       "       [   1,    1,    1,    1,    1,    1,    1],\n",
       "       [   1,    1,    1,    1, 9999,    1,    1],\n",
       "       [   1,    1,    1, 9999, 9999, 9999,    1],\n",
       "       [   1,    1,    1, 9999, 9999, 9999,    1],\n",
       "       [   1,    1,    1, 9999, 9999, 9999,    1],\n",
       "       [   1,    1,    1, 9999, 9999, 9999,    1],\n",
       "       [   1,    1,    1, 9999, 9999,    1,    1],\n",
       "       [   1,    1,    1, 9999, 9999,    1,    1],\n",
       "       [   1,    1,    1,    1,    1,    1,    1],\n",
       "       [   1,    1,    1,    1,    1,    1,    1],\n",
       "       [   1,    1,    1,    1,    1,    1,    1]])"
      ]
     },
     "execution_count": 6,
     "metadata": {},
     "output_type": "execute_result"
    }
   ],
   "source": [
    "# Look to the right...\n",
    "np.roll(eyeball, 1, axis=1)"
   ]
  },
  {
   "cell_type": "code",
   "execution_count": 7,
   "id": "dd037340-eae2-4325-82b6-80501928d03a",
   "metadata": {
    "tags": []
   },
   "outputs": [
    {
     "data": {
      "text/plain": [
       "array([[   1,    1,    1, 9999,    1,    1,    1],\n",
       "       [   1,    1, 9999, 9999, 9999,    1,    1],\n",
       "       [   1,    1, 9999, 9999, 9999,    1,    1],\n",
       "       [   1,    1, 9999, 9999, 9999,    1,    1],\n",
       "       [   1,    1, 9999, 9999, 9999,    1,    1],\n",
       "       [   1,    1, 9999, 9999,    1,    1,    1],\n",
       "       [   1,    1, 9999, 9999,    1,    1,    1],\n",
       "       [   1,    1,    1,    1,    1,    1,    1],\n",
       "       [   1,    1,    1,    1,    1,    1,    1],\n",
       "       [   1,    1,    1,    1,    1,    1,    1],\n",
       "       [   1,    1,    1,    1,    1,    1,    1],\n",
       "       [   1,    1,    1,    1,    1,    1,    1]])"
      ]
     },
     "execution_count": 7,
     "metadata": {},
     "output_type": "execute_result"
    }
   ],
   "source": [
    "# Look up...\n",
    "np.roll(eyeball, -2, axis=0)"
   ]
  },
  {
   "cell_type": "markdown",
   "id": "087c8d45-a245-4d3f-b05b-e74ffd0c01f1",
   "metadata": {},
   "source": [
    "And it wraps around at the edges."
   ]
  },
  {
   "cell_type": "code",
   "execution_count": 8,
   "id": "54eafbc2-6205-47b0-a515-0fe9a45ef286",
   "metadata": {
    "tags": []
   },
   "outputs": [
    {
     "data": {
      "text/plain": [
       "array([[   1,    1, 9999, 9999, 9999,    1,    1],\n",
       "       [   1,    1, 9999, 9999, 9999,    1,    1],\n",
       "       [   1,    1, 9999, 9999, 9999,    1,    1],\n",
       "       [   1,    1, 9999, 9999,    1,    1,    1],\n",
       "       [   1,    1, 9999, 9999,    1,    1,    1],\n",
       "       [   1,    1,    1,    1,    1,    1,    1],\n",
       "       [   1,    1,    1,    1,    1,    1,    1],\n",
       "       [   1,    1,    1,    1,    1,    1,    1],\n",
       "       [   1,    1,    1,    1,    1,    1,    1],\n",
       "       [   1,    1,    1,    1,    1,    1,    1],\n",
       "       [   1,    1,    1, 9999,    1,    1,    1],\n",
       "       [   1,    1, 9999, 9999, 9999,    1,    1]])"
      ]
     },
     "execution_count": 8,
     "metadata": {},
     "output_type": "execute_result"
    }
   ],
   "source": [
    "# Ouch!\n",
    "np.roll(eyeball, -4, axis=0)"
   ]
  },
  {
   "cell_type": "markdown",
   "id": "9fdf31e7-99d1-4b12-848e-6e50d3f2ef0a",
   "metadata": {},
   "source": [
    "This is useful because we need to calculate the number of live neighbors each cell has. NumPy's `+` operation adds cells of equal-shaped arrays that line up with one another; `np.roll` makes them line up.\n",
    "\n",
    "For instance, how many neighbors do each of the 5 cells in this one-dimensional array have?"
   ]
  },
  {
   "cell_type": "code",
   "execution_count": 9,
   "id": "7bb7e011-55eb-484a-ab6b-d1d49c645ef9",
   "metadata": {
    "tags": []
   },
   "outputs": [],
   "source": [
    "one_dimensional = np.array([0, 0, 1, 0, 1, 0, 0])"
   ]
  },
  {
   "cell_type": "markdown",
   "id": "580aedbc-d134-4266-a23b-75eb10864749",
   "metadata": {},
   "source": [
    "| | index 0 | index 1 | index 2 | index 3 | index 4 | index 5 | index 6 |\n",
    "|:-|:-:|:-:|:-:|:-:|:-:|:-:|:-:|\n",
    "| **array values** | 0 | 0 | 1 | 0 | 1 | 0 | 0 |\n",
    "\n",
    "| | index 0 | index 1 | index 2 | index 3 | index 4 | index 5 | index 6 |\n",
    "|:-|:-:|:-:|:-:|:-:|:-:|:-:|:-:|\n",
    "| **left neighbors** | 0 | 0 | 0 | 1 | 0 | 1 | 0 |\n",
    "| **right neighbors** | 0 | 1 | 0 | 1 | 0 | 0 | 0 |\n",
    "| **total neighbors** | 0 | 1 | 0 | 2 | 0 | 1 | 0 |"
   ]
  },
  {
   "cell_type": "code",
   "execution_count": 10,
   "id": "842c857e-f152-40ab-ac38-feaaf877f842",
   "metadata": {
    "tags": []
   },
   "outputs": [
    {
     "data": {
      "text/plain": [
       "array([0, 0, 0, 1, 0, 1, 0])"
      ]
     },
     "execution_count": 10,
     "metadata": {},
     "output_type": "execute_result"
    }
   ],
   "source": [
    "left_neighbors = np.roll(one_dimensional, 1)\n",
    "left_neighbors"
   ]
  },
  {
   "cell_type": "code",
   "execution_count": 11,
   "id": "8e0bbdf9-51ad-4c93-9a87-e3040606d963",
   "metadata": {
    "tags": []
   },
   "outputs": [
    {
     "data": {
      "text/plain": [
       "array([0, 1, 0, 1, 0, 0, 0])"
      ]
     },
     "execution_count": 11,
     "metadata": {},
     "output_type": "execute_result"
    }
   ],
   "source": [
    "right_neighbors = np.roll(one_dimensional, -1)\n",
    "right_neighbors"
   ]
  },
  {
   "cell_type": "code",
   "execution_count": 12,
   "id": "4ef11535-7ca7-4944-bf24-64638a1143cb",
   "metadata": {
    "tags": []
   },
   "outputs": [
    {
     "data": {
      "text/plain": [
       "array([0, 1, 0, 2, 0, 1, 0])"
      ]
     },
     "execution_count": 12,
     "metadata": {},
     "output_type": "execute_result"
    }
   ],
   "source": [
    "left_or_right_neighbors = np.roll(one_dimensional, 1) + np.roll(one_dimensional, -1)\n",
    "left_or_right_neighbors"
   ]
  },
  {
   "cell_type": "markdown",
   "id": "66c25494-f5be-4af1-9645-2cc03ccbbb82",
   "metadata": {},
   "source": [
    "<br><br><br>"
   ]
  },
  {
   "cell_type": "markdown",
   "id": "8d593443-57cb-4dca-a640-7d044db14d73",
   "metadata": {
    "editable": true,
    "slideshow": {
     "slide_type": ""
    },
    "tags": []
   },
   "source": [
    "Each two-dimensional cell has 8 neighbors, so we add up 8 rolls.\n",
    "\n",
    "<center>\n",
    "<img src=\"../img/Moore_neighborhood_with_cardinal_directions.svg\" width=\"300px\">\n",
    "</center>"
   ]
  },
  {
   "cell_type": "code",
   "execution_count": 13,
   "id": "9d0fa8a2-ef5b-45b1-a418-2aa1cdefc364",
   "metadata": {
    "tags": []
   },
   "outputs": [],
   "source": [
    "def step_numpy(world):\n",
    "    num_neighbors = np.zeros(world.shape, dtype=np.int32)                   # initialize neighbors count\n",
    "\n",
    "    num_neighbors += np.roll(np.roll(world,  1, axis=0),  1, axis=1)        # add NW neighbor\n",
    "    num_neighbors += np.roll(np.roll(world,  1, axis=0),  0, axis=1)        # add N neighbor\n",
    "    num_neighbors += np.roll(np.roll(world,  1, axis=0), -1, axis=1)        # add NE neighbor\n",
    "\n",
    "    num_neighbors += np.roll(np.roll(world,  0, axis=0),  1, axis=1)        # add W neighbor\n",
    "    num_neighbors += np.roll(np.roll(world,  0, axis=0), -1, axis=1)        # add E neighbor\n",
    "\n",
    "    num_neighbors += np.roll(np.roll(world, -1, axis=0),  1, axis=1)        # add SW neighbor\n",
    "    num_neighbors += np.roll(np.roll(world, -1, axis=0),  0, axis=1)        # add S neighbor\n",
    "    num_neighbors += np.roll(np.roll(world, -1, axis=0), -1, axis=1)        # add SE neighbor\n",
    "\n",
    "    survivors = ((world == 1) & (num_neighbors > 1) & (num_neighbors < 4))  # old cells that survive\n",
    "    births    = ((world == 0) & (num_neighbors == 3))                       # new cells that are born\n",
    "    return (births | survivors)"
   ]
  },
  {
   "cell_type": "markdown",
   "id": "dd8f4f77-6b43-4e21-ae35-0829de31bb08",
   "metadata": {},
   "source": [
    "With an array of the number of neighbors each cell has, we can apply the rules as logical operators.\n",
    "\n",
    "<br>\n",
    "\n",
    "Repeatedly evaluate the next Jupyter cell (control-enter) to animate."
   ]
  },
  {
   "cell_type": "code",
   "execution_count": 14,
   "id": "a9e4311a-274e-4313-866b-8176bb4d7476",
   "metadata": {
    "tags": []
   },
   "outputs": [
    {
     "name": "stdout",
     "output_type": "stream",
     "text": [
      "|................................................................................................................................|\n",
      "|................................................................................................................................|\n",
      "|........................................................................................................................@@@@....|\n",
      "|.......................................................................................................................@@@@@@...|\n",
      "|......................................................................................................................@@.@@@@...|\n",
      "|.......................................................................................................................@@.......|\n",
      "|................................................................................................................................|\n",
      "|................................................................................................................................|\n",
      "|................................................................................................................................|\n",
      "|................................................................................................................................|\n",
      "|................................................................................................................................|\n",
      "|.......................................................................................................................@@@......|\n",
      "|.......................................................................................................................@........|\n",
      "|.......................................................................................................................@.@......|\n",
      "|........................................................................................................................@@......|\n",
      "|................................................................................................................................|\n",
      "|........................................................................................................................@@......|\n",
      "|.......................................................................................................................@.@......|\n",
      "|.......................................................................................................................@........|\n",
      "|.......................................................................................................................@@@......|\n",
      "|................................................................................................................................|\n",
      "|................................................................................................................................|\n",
      "|................................................................................................................................|\n",
      "|................................................................................................................................|\n",
      "|................................................................................................................................|\n",
      "|.......................................................................................................................@@.......|\n",
      "|......................................................................................................................@@.@@@@...|\n",
      "|.......................................................................................................................@@@@@@...|\n",
      "|........................................................................................................................@@@@....|\n",
      "|................................................................................................................................|\n",
      "|................................................................................................................................|\n",
      "|................................................................................................................................|\n"
     ]
    }
   ],
   "source": [
    "# world = new_world()       # uncomment to reset the world\n",
    "\n",
    "world = step_numpy(world)\n",
    "show(world)"
   ]
  },
  {
   "cell_type": "markdown",
   "id": "34e889e0-9a03-4c30-9768-f62b47a84b5d",
   "metadata": {},
   "source": [
    "<br><br><br>"
   ]
  },
  {
   "cell_type": "markdown",
   "id": "caaa27f9-a6e5-49ab-9287-3da8a4f189fc",
   "metadata": {},
   "source": [
    "And it's also more than 10× faster than the Python function."
   ]
  },
  {
   "cell_type": "code",
   "execution_count": 15,
   "id": "9225cd9f-97ce-4890-a155-45439b37c012",
   "metadata": {
    "tags": []
   },
   "outputs": [
    {
     "name": "stdout",
     "output_type": "stream",
     "text": [
      "109 µs ± 2.66 µs per loop (mean ± std. dev. of 7 runs, 10,000 loops each)\n"
     ]
    }
   ],
   "source": [
    "%%timeit\n",
    "\n",
    "step_numpy(world)"
   ]
  },
  {
   "cell_type": "markdown",
   "id": "5208b7bf-0d4e-4e69-9fc6-3052f2733b6f",
   "metadata": {},
   "source": [
    "<br><br><br>"
   ]
  },
  {
   "cell_type": "markdown",
   "id": "775a140b-f059-471c-8506-7218ce6602ed",
   "metadata": {},
   "source": [
    "## Did you just have to guess \"np.roll\"?"
   ]
  },
  {
   "cell_type": "markdown",
   "id": "09321c49-033a-4a34-844c-c92dd2471954",
   "metadata": {},
   "source": [
    "No!\n",
    "\n",
    "There are other ways to solve this. `np.roll` handles the wrap-around boundaries well, but we don't really need that until iteration 237. If we're less concerned about the edges, we can do it with slices.\n",
    "\n",
    "The problem remains one of calculating the number of live neighbors for each cell."
   ]
  },
  {
   "cell_type": "code",
   "execution_count": 16,
   "id": "98b1db51-efdb-4937-8bde-58db3779b43a",
   "metadata": {
    "tags": []
   },
   "outputs": [],
   "source": [
    "one_dimensional = np.array([0, 0, 1, 0, 1, 0, 0])"
   ]
  },
  {
   "cell_type": "markdown",
   "id": "c5d62e10-3a76-45c7-91ac-a48e255da1e6",
   "metadata": {},
   "source": [
    "| | index 0 | index 1 | index 2 | index 3 | index 4 | index 5 | index 6 |\n",
    "|:-|:-:|:-:|:-:|:-:|:-:|:-:|:-:|\n",
    "| **array values** | 0 | 0 | 1 | 0 | 1 | 0 | 0 |\n",
    "\n",
    "| | index 0 | index 1 | index 2 | index 3 | index 4 | index 5 | index 6 |\n",
    "|:-|:-:|:-:|:-:|:-:|:-:|:-:|:-:|\n",
    "| **left neighbors** | ? | 0 | 0 | 1 | 0 | 1 | 0 |\n",
    "| **right neighbors** | 0 | 1 | 0 | 1 | 0 | 0 | ? |\n",
    "| **total neighbors** | ? | 1 | 0 | 2 | 0 | 1 | ? |"
   ]
  },
  {
   "cell_type": "markdown",
   "id": "caae5322-4052-4fd9-8b3e-f5985d6e8bf0",
   "metadata": {},
   "source": [
    "Note that we can get all but the first left neighbors by slicing off the last element, and we can get all but the last right neighbors by slicing off the first element.\n",
    "\n",
    "The easiest way to add these is to allocate a zero array of the right size and add in each shifted slice."
   ]
  },
  {
   "cell_type": "code",
   "execution_count": 17,
   "id": "378f6a9b-a17e-475a-bb46-b3076a727fed",
   "metadata": {
    "tags": []
   },
   "outputs": [
    {
     "data": {
      "text/plain": [
       "array([0, 1, 0, 2, 0, 1, 0], dtype=int32)"
      ]
     },
     "execution_count": 17,
     "metadata": {},
     "output_type": "execute_result"
    }
   ],
   "source": [
    "left_or_right_neighbors = np.zeros(7, np.int32)\n",
    "\n",
    "left_or_right_neighbors[1:] += one_dimensional[:-1]\n",
    "left_or_right_neighbors[:-1] += one_dimensional[1:]\n",
    "\n",
    "left_or_right_neighbors"
   ]
  },
  {
   "cell_type": "markdown",
   "id": "085c8b9a-df6a-4291-a96d-1831c651af51",
   "metadata": {},
   "source": [
    "The two elements `left_or_right_neighbors[0]` and `left_or_right_neighbors[-1]` have not been assigned; they're still zero. We're assuming that the values that would wrap around are zero.\n",
    "\n",
    "In the Game of Life, this makes the edges of the pitri dish deadly."
   ]
  },
  {
   "cell_type": "code",
   "execution_count": 18,
   "id": "7f2f61e7-91b0-4dce-99aa-3248cb98c17a",
   "metadata": {
    "tags": []
   },
   "outputs": [],
   "source": [
    "def step_numpy_2(world):\n",
    "    num_neighbors = np.zeros(world.shape, dtype=np.int32)                   # initialize neighbors count\n",
    "\n",
    "    num_neighbors[1:  , 1:  ] += world[ :-1,  :-1]                          # add NW neighbor\n",
    "    num_neighbors[1:  ,  :  ] += world[ :-1,  :  ]                          # add N neighbor\n",
    "    num_neighbors[1:  ,  :-1] += world[ :-1, 1:  ]                          # add NE neighbor\n",
    "\n",
    "    num_neighbors[ :  , 1:  ] += world[ :  ,  :-1]                          # add W neighbor\n",
    "    num_neighbors[ :  ,  :-1] += world[ :  , 1:  ]                          # add E neighbor\n",
    "\n",
    "    num_neighbors[ :-1, 1:  ] += world[1:  ,  :-1]                          # add SW neighbor\n",
    "    num_neighbors[ :-1,  :  ] += world[1:  ,  :  ]                          # add S neighbor\n",
    "    num_neighbors[ :-1,  :-1] += world[1:  , 1:  ]                          # add SE neighbor\n",
    "\n",
    "    survivors = ((world == 1) & (num_neighbors > 1) & (num_neighbors < 4))  # old cells that survive\n",
    "    births    = ((world == 0) & (num_neighbors == 3))                       # new cells that are born\n",
    "    return (births | survivors)"
   ]
  },
  {
   "cell_type": "markdown",
   "id": "1ed71d62-b4d7-4ecd-8102-43e9f4023c00",
   "metadata": {},
   "source": [
    "<br><br><br>"
   ]
  },
  {
   "cell_type": "markdown",
   "id": "a215d74e-eb71-4461-8d6a-cdeed9a227fb",
   "metadata": {},
   "source": [
    "Reset the world and check that `step_numpy_2` agrees with `step_numpy` for the first 200 steps."
   ]
  },
  {
   "cell_type": "code",
   "execution_count": 19,
   "id": "8e0ecd8e-cef6-4842-b8a2-84558bb7ebc8",
   "metadata": {
    "tags": []
   },
   "outputs": [],
   "source": [
    "world = new_world()\n",
    "\n",
    "for iteration in range(200):\n",
    "    next_world = step_numpy_2(world)\n",
    "    assert np.array_equal(next_world, step_numpy(world)), iteration\n",
    "    world = next_world"
   ]
  },
  {
   "cell_type": "markdown",
   "id": "96229adf-0457-45c9-8afe-db1776179239",
   "metadata": {
    "tags": []
   },
   "source": [
    "Repeatedly evaluate the next Jupyter cell (control-enter) to animate."
   ]
  },
  {
   "cell_type": "code",
   "execution_count": 20,
   "id": "fe2faf50-78a7-4e53-9f9f-cd6fe647a82a",
   "metadata": {
    "tags": []
   },
   "outputs": [
    {
     "name": "stdout",
     "output_type": "stream",
     "text": [
      "|................................................................................................................................|\n",
      "|................................................................................................................................|\n",
      "|....................@@@@........................................................................................................|\n",
      "|...................@@@@@@.......................................................................................................|\n",
      "|..................@@.@@@@.......................................................................................................|\n",
      "|...................@@......................................................................@@...................................|\n",
      "|...........................................................................................@@...................................|\n",
      "|................................................................................................................................|\n",
      "|......................@@........................................................................................................|\n",
      "|.......................@@................@@..........................................................@@.........................|\n",
      "|.....................@..................@.@.........................................................@..@........................|\n",
      "|...................@@...........................................................................@@...@@..................@@.....|\n",
      "|...................@........@..@.@@...................@@@................@@....................@..@.....................@..@....|\n",
      "|...................@........@@@..@@...@@@@.............................@..@...............@@@...@@......................@.@.....|\n",
      "|....................@...@@@@..@..@....@@@..............................@@@...............................................@......|\n",
      "|................................................................................................................................|\n",
      "|....................@...@@@@..@..@....@@@..............................@@@...............................................@......|\n",
      "|...................@........@@@..@@...@@@@.............................@..@...............@@@...@@......................@.@.....|\n",
      "|...................@........@..@.@@...................@@@................@@....................@..@.....................@..@....|\n",
      "|...................@@...........................................................................@@...@@..................@@.....|\n",
      "|.....................@..................@.@.........................................................@..@........................|\n",
      "|.......................@@................@@..........................................................@@.........................|\n",
      "|......................@@........................................................................................................|\n",
      "|................................................................................................................................|\n",
      "|...........................................................................................@@...................................|\n",
      "|...................@@......................................................................@@...................................|\n",
      "|..................@@.@@@@.......................................................................................................|\n",
      "|...................@@@@@@.......................................................................................................|\n",
      "|....................@@@@........................................................................................................|\n",
      "|................................................................................................................................|\n",
      "|................................................................................................................................|\n",
      "|................................................................................................................................|\n"
     ]
    }
   ],
   "source": [
    "world = step_numpy_2(world)\n",
    "show(world)"
   ]
  },
  {
   "cell_type": "markdown",
   "id": "b46820c7-eb76-4a4f-a608-ae7dbbc669da",
   "metadata": {},
   "source": [
    "<br><br><br>"
   ]
  },
  {
   "cell_type": "markdown",
   "id": "a8e41470-1f99-484c-baf0-053d116d6cfa",
   "metadata": {},
   "source": [
    "Although it's not a correct solution, if we care about edges, it happens to be much faster because we're not creating all the temporary `np.roll` outputs."
   ]
  },
  {
   "cell_type": "code",
   "execution_count": 21,
   "id": "22ea5046-3703-47f6-8725-89efda39e65e",
   "metadata": {
    "tags": []
   },
   "outputs": [
    {
     "name": "stdout",
     "output_type": "stream",
     "text": [
      "35.7 µs ± 164 ns per loop (mean ± std. dev. of 7 runs, 10,000 loops each)\n"
     ]
    }
   ],
   "source": [
    "%%timeit\n",
    "\n",
    "step_numpy_2(world)"
   ]
  },
  {
   "cell_type": "markdown",
   "id": "187e1f9a-9bdd-4814-8fa1-73b8fc5b4d28",
   "metadata": {},
   "source": [
    "<br><br><br>"
   ]
  },
  {
   "cell_type": "markdown",
   "id": "dcc76190-69f6-4fae-b1aa-d22f9d484598",
   "metadata": {},
   "source": [
    "## Can we get the edges right, anyway?"
   ]
  },
  {
   "cell_type": "markdown",
   "id": "bbedf5b9-c7bb-47a2-a8d5-8a326a533a75",
   "metadata": {},
   "source": [
    "Sure. It just involves careful bookkeeping.\n",
    "\n",
    "Or making the `world` one cell larger along all edges, wrapping it explicitly, and then the fact that our slice-based calculation of `num_neighbors` excludes a one-cell wide edge would make it exactly right.\n",
    "\n",
    "There's also a [np.pad](https://numpy.org/doc/stable/reference/generated/numpy.pad.html) function that would do the padding for us."
   ]
  },
  {
   "cell_type": "code",
   "execution_count": 22,
   "id": "f2eb1be1-9e32-415c-9114-6761109e1a83",
   "metadata": {
    "tags": []
   },
   "outputs": [],
   "source": [
    "def step_numpy_3(world):\n",
    "    padded_world = np.empty((world.shape[0] + 2, world.shape[1] + 2), dtype=np.int32)\n",
    "\n",
    "    padded_world[   0,    0] = world[-1, -1]\n",
    "    padded_world[   0, 1:-1] = world[-1,  :]            # top of padded_world is bottom of world\n",
    "    padded_world[   0,   -1] = world[-1,  0]\n",
    "\n",
    "    padded_world[1:-1,    0] = world[ :, -1]            # left of padded_world is right of world\n",
    "    padded_world[1:-1, 1:-1] = world                    # copy world into the center of padded_world\n",
    "    padded_world[1:-1,   -1] = world[ :,  0]            # right of padded_world is left of world\n",
    "\n",
    "    padded_world[  -1,    0] = world[ 0, -1]\n",
    "    padded_world[  -1, 1:-1] = world[ 0,  :]            # bottom of padded_world is top of world\n",
    "    padded_world[  -1,   -1] = world[ 0,  0]\n",
    "\n",
    "    padded_num_neighbors = np.zeros(padded_world.shape, dtype=np.int32)     # initialize neighbors count\n",
    "\n",
    "    padded_num_neighbors[1:  , 1:  ] += padded_world[ :-1,  :-1]            # add NW neighbor\n",
    "    padded_num_neighbors[1:  ,  :  ] += padded_world[ :-1,  :  ]            # add N neighbor\n",
    "    padded_num_neighbors[1:  ,  :-1] += padded_world[ :-1, 1:  ]            # add NE neighbor\n",
    "\n",
    "    padded_num_neighbors[ :  , 1:  ] += padded_world[ :  ,  :-1]            # add W neighbor\n",
    "    padded_num_neighbors[ :  ,  :-1] += padded_world[ :  , 1:  ]            # add E neighbor\n",
    "\n",
    "    padded_num_neighbors[ :-1, 1:  ] += padded_world[1:  ,  :-1]            # add SW neighbor\n",
    "    padded_num_neighbors[ :-1,  :  ] += padded_world[1:  ,  :  ]            # add S neighbor\n",
    "    padded_num_neighbors[ :-1,  :-1] += padded_world[1:  , 1:  ]            # add SE neighbor\n",
    "\n",
    "    num_neighbors = padded_num_neighbors[1:-1, 1:-1]\n",
    "\n",
    "    survivors = ((world == 1) & (num_neighbors > 1) & (num_neighbors < 4))  # old cells that survive\n",
    "    births    = ((world == 0) & (num_neighbors == 3))                       # new cells that are born\n",
    "    return (births | survivors)"
   ]
  },
  {
   "cell_type": "code",
   "execution_count": 23,
   "id": "a9fcf627-3ccd-4508-ac2a-ebb8c9c61b86",
   "metadata": {
    "tags": []
   },
   "outputs": [],
   "source": [
    "world = new_world()\n",
    "\n",
    "for iteration in range(1000):\n",
    "    next_world = step_numpy_3(world)\n",
    "    assert np.array_equal(next_world, step_numpy(world)), iteration\n",
    "    world = next_world"
   ]
  },
  {
   "cell_type": "markdown",
   "id": "8399fa98-c28a-4be1-bcbf-07e2e37e5976",
   "metadata": {},
   "source": [
    "<br><br><br>"
   ]
  },
  {
   "cell_type": "markdown",
   "id": "e34d4b59-8b33-4de4-af71-028f3570b474",
   "metadata": {},
   "source": [
    "And it's still faster than the `np.roll` solution because most of the assignments above are assignments of views, not newly allocated arrays."
   ]
  },
  {
   "cell_type": "code",
   "execution_count": 24,
   "id": "ef50da15-c4d3-4e5c-9afa-4cc2e1631b30",
   "metadata": {
    "tags": []
   },
   "outputs": [
    {
     "name": "stdout",
     "output_type": "stream",
     "text": [
      "43.1 µs ± 1.03 µs per loop (mean ± std. dev. of 7 runs, 10,000 loops each)\n"
     ]
    }
   ],
   "source": [
    "%%timeit\n",
    "\n",
    "step_numpy_3(world)"
   ]
  },
  {
   "cell_type": "markdown",
   "id": "2584676a-9aa1-451c-8d06-9e9c76c7eeee",
   "metadata": {},
   "source": [
    "<br><br><br>"
   ]
  },
  {
   "cell_type": "markdown",
   "id": "5d7aefd8-5c33-4b8e-b888-e1f329e2e0e1",
   "metadata": {},
   "source": [
    "## Did you try using SciPy's \"convolve2d\"?"
   ]
  },
  {
   "cell_type": "code",
   "execution_count": 25,
   "id": "e7c0fa1e-cfbf-4c91-b4d1-74f8d0a2f471",
   "metadata": {
    "tags": []
   },
   "outputs": [],
   "source": [
    "import scipy.signal"
   ]
  },
  {
   "cell_type": "markdown",
   "id": "d5c0fe4d-7d27-4d55-b6ba-9a5dff36286f",
   "metadata": {
    "editable": true,
    "slideshow": {
     "slide_type": ""
    },
    "tags": []
   },
   "source": [
    "The exercise had a hint that this is solvable with [scipy.signal.convolve2d](https://docs.scipy.org/doc/scipy/reference/generated/scipy.signal.convolve2d.html). Here's how.\n",
    "\n",
    "The number of neighbors is a sum over the 8 cells that border a given cell, not including that cell itself (\"C\" below).\n",
    "\n",
    "<center>\n",
    "<img src=\"../img/Moore_neighborhood_with_cardinal_directions.svg\" width=\"300px\">\n",
    "</center>\n",
    "\n",
    "This kind of sum, when applied to all cells in the grid, is a [convolution](https://en.wikipedia.org/wiki/Convolution).\n",
    "\n",
    "The convolution kernel of the Game of Life is"
   ]
  },
  {
   "cell_type": "code",
   "execution_count": 26,
   "id": "f6bcefe1-39e1-47ac-bd6b-5276769eaba2",
   "metadata": {
    "tags": []
   },
   "outputs": [],
   "source": [
    "num_neighbors_convolver = np.array([[1, 1, 1],\n",
    "                                    [1, 0, 1],\n",
    "                                    [1, 1, 1]])"
   ]
  },
  {
   "cell_type": "markdown",
   "id": "ee74191c-5aad-4af2-9ee1-d6b7ec1f7ee7",
   "metadata": {},
   "source": [
    "With this kernel, SciPy's `convolve2d` function counts the number of neighbors for us, for all cells in one function call."
   ]
  },
  {
   "cell_type": "code",
   "execution_count": 27,
   "id": "cec30e51-88cf-4ebc-8bbe-dabfa200ce0b",
   "metadata": {
    "tags": []
   },
   "outputs": [],
   "source": [
    "def step_scipy(world):\n",
    "    num_neighbors = scipy.signal.convolve2d(world, num_neighbors_convolver, mode=\"same\", boundary=\"wrap\")\n",
    "    \n",
    "    survivors = ((world == 1) & (num_neighbors > 1) & (num_neighbors < 4))  # old cells that survive\n",
    "    births    = ((world == 0) & (num_neighbors == 3))                       # new cells that are born\n",
    "    return (births | survivors)"
   ]
  },
  {
   "cell_type": "markdown",
   "id": "0fecd442-e597-4b55-ba8a-fe8cd3be392f",
   "metadata": {},
   "source": [
    "Repeatedly evaluate the next Jupyter cell (control-enter) to animate."
   ]
  },
  {
   "cell_type": "code",
   "execution_count": 28,
   "id": "5f5c9087-f46b-4c93-9fb6-12262a737f9c",
   "metadata": {
    "editable": true,
    "slideshow": {
     "slide_type": ""
    },
    "tags": []
   },
   "outputs": [
    {
     "name": "stdout",
     "output_type": "stream",
     "text": [
      "|................................................................................................................................|\n",
      "|................................................................................................................................|\n",
      "|................................................................................................................................|\n",
      "|....@@@......................................................................................................................@@.|\n",
      "|............................................................................................................................@.@.|\n",
      "|.......................@...................................................................@@...............................@@..|\n",
      "|.......................@...................................................................@@...................................|\n",
      "|.......................@........................................................................................................|\n",
      "|................................................................................................................................|\n",
      "|.....................................................................................................@@.........................|\n",
      "|....................................................................................................@..@........................|\n",
      "|................................................................................................@@...@@.........................|\n",
      "|......................................................@@@................@@....................@..@.............................|\n",
      "|.......................................................................@..@...............@@@...@@.......................@@.....|\n",
      "|.......................................................................@@@...............................................@@.....|\n",
      "|................................................................................................................................|\n",
      "|.......................................................................@@@...............................................@@.....|\n",
      "|.......................................................................@..@...............@@@...@@.......................@@.....|\n",
      "|......................................................@@@................@@....................@..@.............................|\n",
      "|................................................................................................@@...@@.........................|\n",
      "|....................................................................................................@..@........................|\n",
      "|.....................................................................................................@@.........................|\n",
      "|................................................................................................................................|\n",
      "|.......................@........................................................................................................|\n",
      "|.......................@...................................................................@@...................................|\n",
      "|.......................@...................................................................@@...............................@@..|\n",
      "|............................................................................................................................@.@.|\n",
      "|....@@@......................................................................................................................@@.|\n",
      "|................................................................................................................................|\n",
      "|................................................................................................................................|\n",
      "|................................................................................................................................|\n",
      "|................................................................................................................................|\n"
     ]
    }
   ],
   "source": [
    "# world = new_world()       # uncomment to reset the world\n",
    "\n",
    "world = step_scipy(world)\n",
    "show(world)"
   ]
  }
 ],
 "metadata": {
  "kernelspec": {
   "display_name": "Python 3 (ipykernel)",
   "language": "python",
   "name": "python3"
  },
  "language_info": {
   "codemirror_mode": {
    "name": "ipython",
    "version": 3
   },
   "file_extension": ".py",
   "mimetype": "text/x-python",
   "name": "python",
   "nbconvert_exporter": "python",
   "pygments_lexer": "ipython3",
   "version": "3.10.14"
  }
 },
 "nbformat": 4,
 "nbformat_minor": 5
}
